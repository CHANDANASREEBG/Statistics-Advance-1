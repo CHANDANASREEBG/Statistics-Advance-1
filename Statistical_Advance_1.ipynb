{
  "nbformat": 4,
  "nbformat_minor": 0,
  "metadata": {
    "colab": {
      "provenance": []
    },
    "kernelspec": {
      "name": "python3",
      "display_name": "Python 3"
    },
    "language_info": {
      "name": "python"
    }
  },
  "cells": [
    {
      "cell_type": "code",
      "execution_count": null,
      "metadata": {
        "id": "Jg3IbrndSuP_"
      },
      "outputs": [],
      "source": []
    },
    {
      "cell_type": "markdown",
      "source": [
        "**Question 1: Define the z-statistic and explain its relationship to the standard normal distribution. How is the z-statistic used in hypothesis testing?**"
      ],
      "metadata": {
        "id": "fFGCBcBgS7NI"
      }
    },
    {
      "cell_type": "markdown",
      "source": [
        "Z-statistic is a value that tells us how many standard deviations a data point (or sample mean) is from the population mean. It is used to understand how unusual or normal a sample result is under the assumption that the null hypothesis is true.\n",
        "\n",
        "\n",
        "\n",
        "The standard normal distribution is a normal distribution with a mean of 0 and a standard deviation of 1. Z-values are plotted on this curve.\n",
        "\n",
        "In hypothesis testing, the z-statistic helps us compare our sample result to the null hypothesis. A large z (positive or negative) suggests the sample is significantly different from the population mean, possibly leading us to reject the null hypothesis.\n",
        "\n"
      ],
      "metadata": {
        "id": "inFa0HFPS8f_"
      }
    },
    {
      "cell_type": "markdown",
      "source": [
        "**Question 2: What is a p-value, and how is it used in hypothesis testing? What does it mean if the p-value is very small (e.g., 0.01)?**"
      ],
      "metadata": {
        "id": "Ai8kjJLjTS6Z"
      }
    },
    {
      "cell_type": "markdown",
      "source": [
        "The p-value is the probability of observing the sample data (or more extreme) assuming that the null hypothesis is true.\n",
        "\n",
        "A small p-value (e.g., 0.01) means the observed data is very unlikely under the null hypothesis.\n",
        "\n",
        "This often leads us to reject the null hypothesis.\n",
        "\n",
        "How to use p-value in hypothesis testing:\n",
        "\n",
        "If p-value ≤ significance level (α) (like 0.05), reject the null hypothesis.\n",
        "\n",
        "If p-value > α, fail to reject the null hypothesis.\n",
        "\n",
        "So, a p-value of 0.01 means there's only a 1% chance of getting the sample results if the null hypothesis were true—indicating strong evidence against the null."
      ],
      "metadata": {
        "id": "lCfqN3SiUSVi"
      }
    },
    {
      "cell_type": "markdown",
      "source": [
        "**Question3 :Compare and contrast the binomial and Bernoulli distributions.**"
      ],
      "metadata": {
        "id": "frSOUaI4TW_W"
      }
    },
    {
      "cell_type": "markdown",
      "source": [
        "\n",
        "\n",
        "**Feature:**  \n",
        "**Bernoulli Distribution** - Used to model a **single trial** with two outcomes (success/failure)  \n",
        "**Binomial Distribution** - Used to model **multiple independent trials** (n ≥ 1), each with two outcomes\n",
        "\n",
        "**Number of Trials:**  \n",
        "**Bernoulli Distribution** - Only **1 trial**  \n",
        "**Binomial Distribution** - **n trials**, where n is a positive integer\n",
        "\n",
        "**Possible Outcomes:**  \n",
        "**Bernoulli Distribution** - 0 or 1  \n",
        "**Binomial Distribution** - 0 to n (number of successes in n trials)\n",
        "\n",
        "**Parameters:**  \n",
        "**Bernoulli Distribution** - p (probability of success)  \n",
        "**Binomial Distribution** - n (number of trials), p (probability of success)\n",
        "\n",
        "**Mean:**  \n",
        "**Bernoulli Distribution** - p  \n",
        "**Binomial Distribution** - n × p\n",
        "\n",
        "**Variance:**  \n",
        "**Bernoulli Distribution** - p × (1 - p)  \n",
        "**Binomial Distribution** - n × p × (1 - p)\n",
        "\n",
        "**Example:**  \n",
        "**Bernoulli Distribution** - Flipping a coin **once**  \n",
        "**Binomial Distribution** - Flipping a coin **10 times** and counting heads\n",
        "\n",
        "**Relationship:**  \n",
        "**Bernoulli Distribution** - It is a **special case** of the binomial distribution where n = 1  \n",
        "**Binomial Distribution** - It **generalizes** the Bernoulli distribution to more than one trial\n",
        "\n"
      ],
      "metadata": {
        "id": "hXqqqnRAZr85"
      }
    },
    {
      "cell_type": "markdown",
      "source": [
        "**Question 4: Under what conditions is the binomial distribution used, and how does it relate to the Bernoulli distribution?**"
      ],
      "metadata": {
        "id": "7tmVjz2CUfjW"
      }
    },
    {
      "cell_type": "markdown",
      "source": [
        "The binomial distribution is used when:\n",
        "\n",
        "\n",
        "*   There are n independent trials.\n",
        "*   Each trial has only 2 outcomes (success or failure).\n",
        "*   The probability of success (p) is the same for every trial.\n",
        "\n",
        "\n",
        "It relates to the Bernoulli distribution because:\n",
        "\n",
        "   * Each trial in a binomial experiment follows a Bernoulli distribution.\n",
        "\n",
        "   * A binomial distribution is the sum of n Bernoulli trials.\n",
        "\n"
      ],
      "metadata": {
        "id": "ZqLbGyICUiar"
      }
    },
    {
      "cell_type": "markdown",
      "source": [
        "**Question 5: What are the key properties of the Poisson distribution, and when is it appropriate to use this distribution?**\n"
      ],
      "metadata": {
        "id": "2cTUHX5pVKMz"
      }
    },
    {
      "cell_type": "markdown",
      "source": [
        "The Poisson distribution describes the number of times an event happens in a fixed interval of time or space.\n",
        "\n",
        "Properties:\n",
        "\n",
        "* Events occur independently.\n",
        "\n",
        "* The average rate (λ, lambda) is constant.\n",
        "\n",
        "* Two events cannot occur at the exact same instant.\n",
        "\n",
        "Used when:\n",
        "\n",
        "* Counting events like calls received per hour, accidents per day, etc.\n",
        "\n",
        "* The event is rare and occurs randomly.\n",
        "\n",
        "Mean and Variance of Poisson: Both are equal to λ."
      ],
      "metadata": {
        "id": "rvAMZ5z3VQ3o"
      }
    },
    {
      "cell_type": "markdown",
      "source": [
        "**Question 6: Define the terms \"probability distribution\" and \"probability density function\" (PDF). How does a PDF differ from a PMF?**"
      ],
      "metadata": {
        "id": "myo7FjNLVd0h"
      }
    },
    {
      "cell_type": "markdown",
      "source": [
        "* A probability distribution gives the probabilities of all possible values of a random variable.\n",
        "\n",
        "* A PDF (Probability Density Function) is used for continuous variables and shows the likelihood of a value in a given range.\n",
        "\n",
        "* A PMF (Probability Mass Function) is used for discrete variables and shows the exact probability for each possible value.\n",
        "\n",
        "Difference:\n",
        "\n",
        "* PMF: Used for discrete data (e.g., number of heads).\n",
        "\n",
        "* PDF: Used for continuous data (e.g., height, weight); probability at one point is 0, but the area under the curve gives the probability over a range."
      ],
      "metadata": {
        "id": "y8qJg60zVhfs"
      }
    },
    {
      "cell_type": "markdown",
      "source": [
        "**Question 7: Explain the Central Limit Theorem (CLT) with example.**"
      ],
      "metadata": {
        "id": "4h1BGe9kVvRM"
      }
    },
    {
      "cell_type": "markdown",
      "source": [
        "***The Central Limit Theorem (CLT) says:***\n",
        "\n",
        "When you take a large number of random samples from any population, the distribution of sample means will be approximately normal, no matter what the population distribution looks like.\n",
        "\n",
        "**Example**: Imagine measuring the height of 5 people randomly from a population. Do this 1000 times, each time calculating the average height. The distribution of those 1000 averages will look like a bell-shaped (normal) curve.\n",
        "\n",
        "This is why normal distribution is often used in statistics even when the population isn’t normal."
      ],
      "metadata": {
        "id": "zcIQHKIOWKUt"
      }
    },
    {
      "cell_type": "markdown",
      "source": [
        "**Question 8: Compare z-scores and t-scores. When should you use a z-score, and when should a t-score be applied instead?**"
      ],
      "metadata": {
        "id": "oscIuDdiXqed"
      }
    },
    {
      "cell_type": "markdown",
      "source": [
        "**Feature**:\n",
        "* Z-Score - Used when\tPopulation standard deviation is known\n",
        "* T-Score - Used when\tPopulation standard deviation is known\tPopulation std dev unknown, small sample\n",
        "\n",
        "**Sample size**:\n",
        "* Z-Score - Large (n > 30)\n",
        "* T-Score -\tSmall (n ≤ 30)\n",
        "\n",
        "**Distribution**\n",
        "* Z-Score - Standard normal distribution\n",
        "* T-Score - t-distribution\n",
        ""
      ],
      "metadata": {
        "id": "rq7sThw-WfJg"
      }
    },
    {
      "cell_type": "markdown",
      "source": [
        "**Question9: Given a sample mean of 105, a population mean of 100, a standard deviation of 15, and a sample size of 25, calculate the z-score and p-value. Based on a significance level of 0.05, do you reject or fail toreject the null hypothesis?**\n",
        "\n",
        "** Task: Write Python code to calculate the z-score and p-value for the given data **\n",
        "\n",
        "**Objective: Apply the formula for the z-score and interpret the p-value for hypothesis testing.**"
      ],
      "metadata": {
        "id": "RcSjoUNeX1hd"
      }
    },
    {
      "cell_type": "markdown",
      "source": [
        "Given:\n",
        "\n",
        "* Sample Mean = 105\n",
        "\n",
        "* Population Mean = 100\n",
        "\n",
        "* Standard Deviation = 15\n",
        "\n",
        "* Sample Size = 25\n",
        "\n",
        "* Significance level = 0.05"
      ],
      "metadata": {
        "id": "4fJOJ2klX3cH"
      }
    },
    {
      "cell_type": "code",
      "source": [
        "import scipy.stats as stats\n",
        "import math\n",
        "\n",
        "# Given values\n",
        "sample_mean = 105\n",
        "population_mean = 100\n",
        "std_dev = 15\n",
        "sample_size = 25\n",
        "\n",
        "# Calculate standard error\n",
        "se = std_dev / math.sqrt(sample_size)\n",
        "\n",
        "# Calculate z-score\n",
        "z = (sample_mean - population_mean) / se\n",
        "\n",
        "# Calculate p-value (two-tailed)\n",
        "p_value = 2 * (1 - stats.norm.cdf(abs(z)))\n",
        "\n",
        "# Decision\n",
        "if p_value < 0.05:\n",
        "    decision = \"Reject the null hypothesis\"\n",
        "else:\n",
        "    decision = \"Fail to reject the null hypothesis\"\n",
        "\n",
        "z, p_value, decision\n"
      ],
      "metadata": {
        "colab": {
          "base_uri": "https://localhost:8080/"
        },
        "id": "6Uu3H_SQYEiq",
        "outputId": "f22fa70f-6273-4a26-e314-b32d8d4c0993"
      },
      "execution_count": 4,
      "outputs": [
        {
          "output_type": "execute_result",
          "data": {
            "text/plain": [
              "(1.6666666666666667,\n",
              " np.float64(0.09558070454562939),\n",
              " 'Fail to reject the null hypothesis')"
            ]
          },
          "metadata": {},
          "execution_count": 4
        }
      ]
    },
    {
      "cell_type": "markdown",
      "source": [
        "**Question10: Simulate a binomial distribution with 10 trials and a probability of success of 0.6 using Python.**\n",
        "**Generate 1,000 samples and plot the distribution. What is the expected mean and variance? Task: Use Python to generate the data, plot the distribution, and calculate the mean and variance.**\n",
        "**Objective: Understand the properties of a binomial distribution and verify them through simulation. **"
      ],
      "metadata": {
        "id": "nKKzkiZCYdtG"
      }
    },
    {
      "cell_type": "markdown",
      "source": [
        "Task: 10 trials, p = 0.6, 1000 samples"
      ],
      "metadata": {
        "id": "KrbDEh2RYdFw"
      }
    },
    {
      "cell_type": "code",
      "source": [
        "import numpy as np\n",
        "import matplotlib.pyplot as plt\n",
        "\n",
        "# Parameters\n",
        "n = 10\n",
        "p = 0.6\n",
        "samples = 1000\n",
        "\n",
        "# Generate binomial samples\n",
        "data = np.random.binomial(n, p, samples)\n",
        "\n",
        "# Plot the distribution\n",
        "plt.hist(data, bins=range(0, n+2), align='left', rwidth=0.8, color='skyblue', edgecolor='black')\n",
        "plt.title('Binomial Distribution (n=10, p=0.6)')\n",
        "plt.xlabel('Number of Successes')\n",
        "plt.ylabel('Frequency')\n",
        "plt.grid(axis='y')\n",
        "plt.show()\n",
        "\n",
        "# Calculate mean and variance\n",
        "mean = np.mean(data)\n",
        "variance = np.var(data)\n",
        "mean, variance\n"
      ],
      "metadata": {
        "colab": {
          "base_uri": "https://localhost:8080/",
          "height": 490
        },
        "id": "dSNPJex7Y7nJ",
        "outputId": "42082f67-60b1-4001-8aac-d83c772d9a08"
      },
      "execution_count": 5,
      "outputs": [
        {
          "output_type": "display_data",
          "data": {
            "text/plain": [
              "<Figure size 640x480 with 1 Axes>"
            ],
            "image/png": "[encoded data removed]"
          },
          "metadata": {}
        },
        {
          "output_type": "execute_result",
          "data": {
            "text/plain": [
              "(np.float64(6.039), np.float64(2.337479))"
            ]
          },
          "metadata": {},
          "execution_count": 5
        }
      ]
    }
  ]
}